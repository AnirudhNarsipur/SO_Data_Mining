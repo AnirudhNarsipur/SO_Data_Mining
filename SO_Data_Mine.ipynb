{
 "cells": [
  {
   "cell_type": "code",
   "execution_count": 1,
   "metadata": {},
   "outputs": [],
   "source": [
    "import pandas as pd\n",
    "from html.parser import HTMLParser\n",
    "from bs4 import BeautifulSoup\n",
    "import re\n",
    "import string\n",
    "from sklearn.model_selection import train_test_split as tts\n",
    "from sklearn.feature_extraction.text import TfidfVectorizer\n",
    "from sklearn.cluster import KMeans, MiniBatchKMeans\n",
    "import os"
   ]
  },
  {
   "cell_type": "code",
   "execution_count": 2,
   "metadata": {},
   "outputs": [],
   "source": [
    "i = 1\n",
    "o = 1\n",
    "def stripping(txt):\n",
    "    txt = BeautifulSoup(txt)\n",
    "    code = [str(s.extract()) for s in txt('code')]\n",
    "    txt = txt.get_text()\n",
    "    txt.replace(\"\\n\",\"\")\n",
    "    txt = txt.translate(str.maketrans('', '', string.punctuation))\n",
    "    txt = txt.lower()\n",
    "    return txt\n",
    "def pstripping(txt):\n",
    "    txt = BeautifulSoup(txt)\n",
    "    txt = txt.get_text()\n",
    "    txt.replace(\"\\n\",\"\")\n",
    "    txt = txt.translate(str.maketrans('', '', string.punctuation))\n",
    "    txt = txt.lower()\n",
    "    return txt\n",
    "def code(txt):\n",
    "    txt = BeautifulSoup(txt)\n",
    "    code = [str(s.extract()) for s in txt('code')]\n",
    "    code = [i.replace(\"<code>\",\"\") for i in code]\n",
    "    code = [i.replace(\"</code>\",\"\") for i in code]\n",
    "    code = \" \".join(code)\n",
    "    return code\n",
    "def get_labels(n):\n",
    "    global i\n",
    "    print()\n",
    "    print(n)\n",
    "    print(\"\\n\",\"Enter label for sample \",i)\n",
    "    print()\n",
    "    o = int(input())\n",
    "    print(\"---------------------------------------------------\")\n",
    "    i+=1"
   ]
  },
  {
   "cell_type": "code",
   "execution_count": null,
   "metadata": {},
   "outputs": [],
   "source": [
    "daf = pd.read_csv(\"QueryResultsFinal.csv\")"
   ]
  },
  {
   "cell_type": "code",
   "execution_count": null,
   "metadata": {},
   "outputs": [],
   "source": [
    "daf[\"Total\"] = daf[\"Title\"] + daf[\"Body\"] + daf[\"Accepted Answer\"]\n",
    "daf[\"Body Code\"] = daf[\"Body\"].apply(code) \n",
    "daf[\"Answer Code\"] = daf[\"Accepted Answer\"].apply(code)\n",
    "daf[\"Total\"] = daf[\"Total\"].apply(stripping)\n",
    "vec = TfidfVectorizer( strip_accents = \"unicode\", stop_words = \"english\")\n",
    "transformed= vec.fit_transform(daf[\"Total\"])\n",
    "clusters = 12\n",
    "km = KMeans(n_clusters=clusters, init='k-means++', max_iter=25, n_init=1,verbose=1,random_state=42)\n",
    "km.fit(transformed)"
   ]
  },
  {
   "cell_type": "code",
   "execution_count": null,
   "metadata": {},
   "outputs": [],
   "source": [
    "km = KMeans(n_clusters=clusters, init='k-means++', max_iter=250, n_init=1,verbose=1,random_state=42)\n",
    "km.fit(transformed)"
   ]
  },
  {
   "cell_type": "code",
   "execution_count": null,
   "metadata": {},
   "outputs": [],
   "source": [
    "'''daf[\"Group\"] = km.predict(transformed)\n",
    "for i in range(0,12):\n",
    "    r = daf[daf[\"Group\"]==i][\"Total\"]\n",
    "    print(\"GROUP-\",i,\"\\n\",r.values[100],\"\\n-----\",r.values[-101],\"\\n-----\",r.values[-102])\n",
    "    print(\"========================================================================================\\n\\n\\n\") '''"
   ]
  },
  {
   "cell_type": "code",
   "execution_count": null,
   "metadata": {},
   "outputs": [],
   "source": [
    "daf,lb = tts(daf,test_size=0.0025,random_state=42)"
   ]
  },
  {
   "cell_type": "code",
   "execution_count": null,
   "metadata": {},
   "outputs": [],
   "source": [
    "rt = daf[daf[\"Group\"].isin([1,2,3,4,5,6,7,8,9])]\n",
    "rt,lb = tts(rt,test_size=0.00525,random_state=42)\n",
    "daf = pd.concat([daf,lb,lb]).drop_duplicates(keep=False)\n"
   ]
  },
  {
   "cell_type": "code",
   "execution_count": 3,
   "metadata": {},
   "outputs": [],
   "source": [
    "labpath = \"labelled_data\" \n",
    "if not os.path.exists(labpath):\n",
    "    os.makedirs(labpath)\n",
    "unlabpath = \"unlabelled_data\"\n",
    "if not os.path.exists(unlabpath):\n",
    "    os.makedirs(unlabpath)"
   ]
  },
  {
   "cell_type": "code",
   "execution_count": 5,
   "metadata": {},
   "outputs": [],
   "source": [
    "unlabfile = unlabpath+\"/unlabelled_data.csv\"\n",
    "labfile = labpath + \"/labelled_data.csv\"\n",
    "#daf.to_csv(unlabfile)\n",
    "#lb.to_csv(labfile)\n"
   ]
  },
  {
   "cell_type": "code",
   "execution_count": 6,
   "metadata": {},
   "outputs": [],
   "source": [
    "lb = pd.read_csv(labfile)\n"
   ]
  },
  {
   "cell_type": "code",
   "execution_count": 27,
   "metadata": {},
   "outputs": [],
   "source": [
    "index = 82\n",
    "o = 1\n",
    "def write_labels(txt):\n",
    "    global index\n",
    "    global o \n",
    "    while o<82:\n",
    "        o+=1\n",
    "        return 0\n",
    "    print(\"\\n\")\n",
    "    print(\"-----------------------------------------------\")\n",
    "    print(txt,\"\\nEnter label for sample:\",\"index \",index)\n",
    "    n = int(input())\n",
    "    f = labpath+\"/\"+ str(index) +\".txt\"\n",
    "    if not os.path.isfile(f) or os.stat(f).st_size == 0:\n",
    "        with open(f,'w') as file:\n",
    "            file.write(str(n))\n",
    "            file.close()\n",
    "        index+=1\n",
    "    else:\n",
    "        print(\"Already there\\n\")\n",
    "        index+=1\n",
    "        return -1\n",
    "    print(\"\\n\")\n",
    "   "
   ]
  },
  {
   "cell_type": "code",
   "execution_count": null,
   "metadata": {},
   "outputs": [],
   "source": []
  },
  {
   "cell_type": "code",
   "execution_count": null,
   "metadata": {},
   "outputs": [],
   "source": [
    "lb[\"Total\"] = lb[\"Total\"].apply(pstripping)"
   ]
  },
  {
   "cell_type": "markdown",
   "metadata": {},
   "source": [
    "### lb[\"Total\"].apply(write_labels)"
   ]
  },
  {
   "cell_type": "code",
   "execution_count": 11,
   "metadata": {},
   "outputs": [
    {
     "data": {
      "text/html": [
       "<div>\n",
       "<style scoped>\n",
       "    .dataframe tbody tr th:only-of-type {\n",
       "        vertical-align: middle;\n",
       "    }\n",
       "\n",
       "    .dataframe tbody tr th {\n",
       "        vertical-align: top;\n",
       "    }\n",
       "\n",
       "    .dataframe thead th {\n",
       "        text-align: right;\n",
       "    }\n",
       "</style>\n",
       "<table border=\"1\" class=\"dataframe\">\n",
       "  <thead>\n",
       "    <tr style=\"text-align: right;\">\n",
       "      <th></th>\n",
       "      <th>Unnamed: 0</th>\n",
       "      <th>id</th>\n",
       "      <th>Title</th>\n",
       "      <th>Body</th>\n",
       "      <th>Tags</th>\n",
       "      <th>score</th>\n",
       "      <th>Answer ID</th>\n",
       "      <th>Accepted Answer</th>\n",
       "      <th>User Reputation</th>\n",
       "      <th>Total</th>\n",
       "      <th>Body Code</th>\n",
       "      <th>Answer Code</th>\n",
       "      <th>Group</th>\n",
       "    </tr>\n",
       "  </thead>\n",
       "  <tbody>\n",
       "    <tr>\n",
       "      <th>0</th>\n",
       "      <td>49900</td>\n",
       "      <td>52325662</td>\n",
       "      <td>Run Django on Oracle Application Container</td>\n",
       "      <td>&lt;p&gt;I have an existing django project which I a...</td>\n",
       "      <td>&lt;python&gt;&lt;django&gt;&lt;bash&gt;&lt;oracle&gt;&lt;oracle-cloud-in...</td>\n",
       "      <td>0</td>\n",
       "      <td>52473559</td>\n",
       "      <td>&lt;p&gt;With some more help from Oracle support I m...</td>\n",
       "      <td>1</td>\n",
       "      <td>run django on oracle application containeri ha...</td>\n",
       "      <td>ACCS[web.1]: Content of APP_HOME [ /u01/app/ ]...</td>\n",
       "      <td>ALLOWED_HOSTS settings.py ALLOWED_HOSTS = ['*'...</td>\n",
       "      <td>8</td>\n",
       "    </tr>\n",
       "    <tr>\n",
       "      <th>1</th>\n",
       "      <td>27371</td>\n",
       "      <td>33846060</td>\n",
       "      <td>matching indexes in python to categorize a column</td>\n",
       "      <td>&lt;p&gt;I have a column in a dataframe of length 10...</td>\n",
       "      <td>&lt;python&gt;&lt;match&gt;&lt;dataframe&gt;</td>\n",
       "      <td>0</td>\n",
       "      <td>33846541</td>\n",
       "      <td>&lt;p&gt;You could use &lt;code&gt;merge&lt;/code&gt; and do som...</td>\n",
       "      <td>3</td>\n",
       "      <td>matching indexes in python to categorize a col...</td>\n",
       "      <td>1. bakery       commercial\\n 2. hospital     ...</td>\n",
       "      <td>merge import pandas as pd\\ndf = pd.merge(  lef...</td>\n",
       "      <td>9</td>\n",
       "    </tr>\n",
       "    <tr>\n",
       "      <th>2</th>\n",
       "      <td>42364</td>\n",
       "      <td>49007929</td>\n",
       "      <td>What is taking so much memory?</td>\n",
       "      <td>&lt;p&gt;I have a simple code, which reads csv file,...</td>\n",
       "      <td>&lt;python&gt;&lt;python-2.7&gt;&lt;csv&gt;&lt;memory&gt;&lt;set&gt;</td>\n",
       "      <td>2</td>\n",
       "      <td>49008391</td>\n",
       "      <td>&lt;p&gt;you could create your own hash function to ...</td>\n",
       "      <td>13</td>\n",
       "      <td>what is taking so much memoryi have a simple c...</td>\n",
       "      <td>def my_func():\\n    area = \"W09\"\\n\\n    inf = ...</td>\n",
       "      <td>tuple hash = x*10**7 + y\\n x y hash tuple 10**...</td>\n",
       "      <td>3</td>\n",
       "    </tr>\n",
       "    <tr>\n",
       "      <th>3</th>\n",
       "      <td>13793</td>\n",
       "      <td>21358309</td>\n",
       "      <td>Python 3.3 xlrd 0.9.2 on mac OS X 10.9.1. - Un...</td>\n",
       "      <td>&lt;p&gt;I'm a complete Python beginner and I wanted...</td>\n",
       "      <td>&lt;python&gt;&lt;python-3.3&gt;&lt;xlrd&gt;</td>\n",
       "      <td>1</td>\n",
       "      <td>21377830</td>\n",
       "      <td>&lt;p&gt;The last part of error message is saying th...</td>\n",
       "      <td>8</td>\n",
       "      <td>python 33 xlrd 092 on mac os x 1091  unable to...</td>\n",
       "      <td>Python 3.3.3 (v3.3.3:c3896275c0f6, Nov 16 2013...</td>\n",
       "      <td>FileNotFoundError: [Errno 2] No such file or d...</td>\n",
       "      <td>3</td>\n",
       "    </tr>\n",
       "    <tr>\n",
       "      <th>4</th>\n",
       "      <td>12619</td>\n",
       "      <td>22264150</td>\n",
       "      <td>Instances calling method seem to reference sam...</td>\n",
       "      <td>&lt;p&gt;I am working through Cravens pygame tutoria...</td>\n",
       "      <td>&lt;python&gt;&lt;methods&gt;&lt;pygame&gt;&lt;self&gt;&lt;instances&gt;</td>\n",
       "      <td>0</td>\n",
       "      <td>22272298</td>\n",
       "      <td>&lt;p&gt;You put the &lt;code&gt;snow_list = []&lt;/code&gt; var...</td>\n",
       "      <td>14</td>\n",
       "      <td>instances calling method seem to reference sam...</td>\n",
       "      <td>import pygame\\nimport random\\n\\n# Define some ...</td>\n",
       "      <td>snow_list = [] snow_list = [] def __init__():</td>\n",
       "      <td>1</td>\n",
       "    </tr>\n",
       "  </tbody>\n",
       "</table>\n",
       "</div>"
      ],
      "text/plain": [
       "   Unnamed: 0        id                                              Title  \\\n",
       "0       49900  52325662         Run Django on Oracle Application Container   \n",
       "1       27371  33846060  matching indexes in python to categorize a column   \n",
       "2       42364  49007929                     What is taking so much memory?   \n",
       "3       13793  21358309  Python 3.3 xlrd 0.9.2 on mac OS X 10.9.1. - Un...   \n",
       "4       12619  22264150  Instances calling method seem to reference sam...   \n",
       "\n",
       "                                                Body  \\\n",
       "0  <p>I have an existing django project which I a...   \n",
       "1  <p>I have a column in a dataframe of length 10...   \n",
       "2  <p>I have a simple code, which reads csv file,...   \n",
       "3  <p>I'm a complete Python beginner and I wanted...   \n",
       "4  <p>I am working through Cravens pygame tutoria...   \n",
       "\n",
       "                                                Tags  score  Answer ID  \\\n",
       "0  <python><django><bash><oracle><oracle-cloud-in...      0   52473559   \n",
       "1                         <python><match><dataframe>      0   33846541   \n",
       "2             <python><python-2.7><csv><memory><set>      2   49008391   \n",
       "3                         <python><python-3.3><xlrd>      1   21377830   \n",
       "4         <python><methods><pygame><self><instances>      0   22272298   \n",
       "\n",
       "                                     Accepted Answer  User Reputation  \\\n",
       "0  <p>With some more help from Oracle support I m...                1   \n",
       "1  <p>You could use <code>merge</code> and do som...                3   \n",
       "2  <p>you could create your own hash function to ...               13   \n",
       "3  <p>The last part of error message is saying th...                8   \n",
       "4  <p>You put the <code>snow_list = []</code> var...               14   \n",
       "\n",
       "                                               Total  \\\n",
       "0  run django on oracle application containeri ha...   \n",
       "1  matching indexes in python to categorize a col...   \n",
       "2  what is taking so much memoryi have a simple c...   \n",
       "3  python 33 xlrd 092 on mac os x 1091  unable to...   \n",
       "4  instances calling method seem to reference sam...   \n",
       "\n",
       "                                           Body Code  \\\n",
       "0  ACCS[web.1]: Content of APP_HOME [ /u01/app/ ]...   \n",
       "1   1. bakery       commercial\\n 2. hospital     ...   \n",
       "2  def my_func():\\n    area = \"W09\"\\n\\n    inf = ...   \n",
       "3  Python 3.3.3 (v3.3.3:c3896275c0f6, Nov 16 2013...   \n",
       "4  import pygame\\nimport random\\n\\n# Define some ...   \n",
       "\n",
       "                                         Answer Code  Group  \n",
       "0  ALLOWED_HOSTS settings.py ALLOWED_HOSTS = ['*'...      8  \n",
       "1  merge import pandas as pd\\ndf = pd.merge(  lef...      9  \n",
       "2  tuple hash = x*10**7 + y\\n x y hash tuple 10**...      3  \n",
       "3  FileNotFoundError: [Errno 2] No such file or d...      3  \n",
       "4      snow_list = [] snow_list = [] def __init__():      1  "
      ]
     },
     "execution_count": 11,
     "metadata": {},
     "output_type": "execute_result"
    }
   ],
   "source": [
    "lb.head()"
   ]
  },
  {
   "cell_type": "code",
   "execution_count": 29,
   "metadata": {},
   "outputs": [],
   "source": [
    "txt = BeautifulSoup(\"<code>Hello there!</code>\")"
   ]
  },
  {
   "cell_type": "code",
   "execution_count": 32,
   "metadata": {},
   "outputs": [
    {
     "data": {
      "text/plain": [
       "<code>Hello there!</code>"
      ]
     },
     "execution_count": 32,
     "metadata": {},
     "output_type": "execute_result"
    }
   ],
   "source": [
    "2"
   ]
  },
  {
   "cell_type": "code",
   "execution_count": null,
   "metadata": {},
   "outputs": [],
   "source": []
  }
 ],
 "metadata": {
  "kernelspec": {
   "display_name": "Python 3",
   "language": "python",
   "name": "python3"
  },
  "language_info": {
   "codemirror_mode": {
    "name": "ipython",
    "version": 3
   },
   "file_extension": ".py",
   "mimetype": "text/x-python",
   "name": "python",
   "nbconvert_exporter": "python",
   "pygments_lexer": "ipython3",
   "version": "3.6.7"
  }
 },
 "nbformat": 4,
 "nbformat_minor": 2
}
